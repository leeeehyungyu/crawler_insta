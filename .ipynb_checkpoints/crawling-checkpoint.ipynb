{
 "cells": [
  {
   "cell_type": "code",
   "execution_count": 20,
   "metadata": {
    "collapsed": true
   },
   "outputs": [],
   "source": [
    "from urllib.request import Request,urlopen # 인터넷 url를 열어주는 패키지\n",
    "from urllib.parse import quote_plus # 한글을 유니코드 형식으로 변환해줌\n",
    "from bs4 import BeautifulSoup \n",
    "from selenium import webdriver # webdriver 가져오기\n",
    "import time # 크롤링 중 시간 대기를 위한 패키지\n",
    "import warnings # 경고메시지 제거 패키지\n",
    "from selenium.webdriver.common.keys import Keys\n",
    "from tqdm import tqdm\n",
    "import pandas as pd\n",
    "\n",
    "warnings.filterwarnings(action='ignore') # 경고 메세지 제거\n"
   ]
  },
  {
   "cell_type": "code",
   "execution_count": 2,
   "metadata": {
    "collapsed": true
   },
   "outputs": [],
   "source": [
    "def loadDriver() :\n",
    "    global driver\n",
    "    if driver is None :\n",
    "        driver = webdriver.Chrome(executable_path=\"\"\"./chromedriver.exe\"\"\")\n",
    "    else :\n",
    "        return"
   ]
  },
  {
   "cell_type": "code",
   "execution_count": 3,
   "metadata": {
    "collapsed": true
   },
   "outputs": [],
   "source": [
    "def closeDriver() :\n",
    "    global driver\n",
    "    if driver is None :\n",
    "        return\n",
    "    else :\n",
    "        driver.close()"
   ]
  },
  {
   "cell_type": "code",
   "execution_count": 4,
   "metadata": {
    "collapsed": true
   },
   "outputs": [],
   "source": [
    "def login(id,pwd) :\n",
    "    global driver\n",
    "    if (id is None)or(pwd is None) :\n",
    "        print('id, 비번 입력해')\n",
    "        return\n",
    "    \n",
    "    loadDriver()\n",
    "    loginUrl = \"https://www.instagram.com/\"\n",
    "    \n",
    "    driver.get(loginUrl)\n",
    "\n",
    "    time.sleep(3)\n",
    "\n",
    "    #id, pwd 입력\n",
    "    elem_login = driver.find_element_by_name(\"username\")\n",
    "    elem_login.clear()\n",
    "    elem_login.send_keys(id)#'01027767377')\n",
    "\n",
    "    elem_login = driver.find_element_by_name('password')\n",
    "    elem_login.clear()\n",
    "    elem_login.send_keys(pwd)#'Chj6085044!!')\n",
    "\n",
    "    time.sleep(1)\n",
    "\n",
    "    xpath2 = \"\"\"//*[@id=\"react-root\"]/section/main/article/div[2]/div[1]/div[1]/form/div[4]/button\"\"\"\n",
    "    driver.find_element_by_xpath(xpath2).click()\n",
    "\n",
    "    time.sleep(4)\n"
   ]
  },
  {
   "cell_type": "code",
   "execution_count": 5,
   "metadata": {
    "collapsed": true
   },
   "outputs": [],
   "source": [
    "def queryTag(tag) :\n",
    "    global driver\n",
    "    searchUrl = \"https://www.instagram.com/explore/tags/\"\n",
    "    url = searchUrl + quote_plus(tag)\n",
    "    driver.get(url)"
   ]
  },
  {
   "cell_type": "code",
   "execution_count": 26,
   "metadata": {
    "collapsed": true
   },
   "outputs": [],
   "source": [
    "def loadLinks() :\n",
    "    global driver\n",
    "    reallink = []\n",
    "    SCROLL_PAUSE_TIME = 1.0\n",
    "    cnt = 0\n",
    "    while True:\n",
    "        pageString = driver.page_source\n",
    "        bsObj = BeautifulSoup(pageString, 'lxml')\n",
    "\n",
    "        for link1 in bsObj.find_all(name='div', attrs={\"class\":\"Nnq7C weEfm\"}):\n",
    "            curLink = link1.select('a')\n",
    "            for i in curLink:\n",
    "                title = i\n",
    "                real = title.attrs['href']\n",
    "                reallink.append(real)\n",
    "\n",
    "        last_height = driver.execute_script('return document.body.scrollHeight')\n",
    "        driver.execute_script(\"window.scrollTo(0, document.body.scrollHeight);\")\n",
    "        time.sleep(SCROLL_PAUSE_TIME)\n",
    "        new_height = driver.execute_script(\"return document.body.scrollHeight\")\n",
    "\n",
    "        if new_height == last_height:\n",
    "            driver.execute_script(\"window.scrollTo(0, document.body.scrollHeight);\")\n",
    "            time.sleep(SCROLL_PAUSE_TIME)\n",
    "            new_height = driver.execute_script(\"return document.body.scrollHeight\")\n",
    "\n",
    "            if new_height == last_height:\n",
    "                break\n",
    "            else:\n",
    "                last_height = new_height\n",
    "                continue\n",
    "    return list(set(reallink))\n"
   ]
  },
  {
   "cell_type": "code",
   "execution_count": 27,
   "metadata": {
    "collapsed": true
   },
   "outputs": [],
   "source": [
    "def getHashTag(linkList) :\n",
    "    \n",
    "    num_of_data = len(linkList)\n",
    "\n",
    "    print('총 {0}개의 데이터를 수집합니다.'.format(num_of_data))\n",
    "    csvtext = []\n",
    "\n",
    "    for i in tqdm(range(num_of_data)):\n",
    "\n",
    "        csvtext.append([])\n",
    "        req = Request(\"https://www.instagram.com/p\" + linkList[i], headers={'User-Agent': 'Mozila/5.0'})\n",
    "\n",
    "        try:\n",
    "            webpage = urlopen(req).read()\n",
    "        except :\n",
    "            print('오픈에러 link:',linkList[i])\n",
    "            continue\n",
    "\n",
    "        soup = BeautifulSoup(webpage, 'lxml', from_encoding='utf-8')\n",
    "        soup1 = soup.find('meta', attrs={'property': \"og:description\"})\n",
    "\n",
    "        reallink1 = soup1['content']\n",
    "        reallink1 = reallink1[reallink1.find(\"@\") + 1:reallink1.find(\")\")]\n",
    "        reallink1 = reallink1[:20]\n",
    "\n",
    "        if reallink1 == '':\n",
    "            reallink1 = \"Null\"\n",
    "        csvtext[i].append(reallink1)\n",
    "\n",
    "        for reallink2 in soup.find_all('meta', attrs={'property': \"instapp:hashtags\"}):\n",
    "            hashtags = reallink2['content'].rstrip(',')\n",
    "            csvtext[i].append(hashtags)\n",
    "\n",
    "        # csv로 저장\n",
    "\n",
    "        data = pd.DataFrame(csvtext)\n",
    "        data.to_csv('./insta.txt', encoding='utf-8')\n",
    "\n",
    "    return"
   ]
  },
  {
   "cell_type": "code",
   "execution_count": 30,
   "metadata": {
    "collapsed": false,
    "scrolled": false
   },
   "outputs": [
    {
     "name": "stdout",
     "output_type": "stream",
     "text": [
      "검색할 태그를 입력하세요 : 하나만걸려\n",
      "게시물수 34\n",
      "총 34개의 데이터를 수집합니다.\n"
     ]
    },
    {
     "name": "stderr",
     "output_type": "stream",
     "text": [
      "100%|██████████████████████████████████████████████████████████████████████████████████| 34/34 [00:27<00:00,  1.23it/s]\n"
     ]
    }
   ],
   "source": [
    "#실행하기\n",
    "\n",
    "driver=None\n",
    "\n",
    "loadDriver()\n",
    "\n",
    "\n",
    "\n",
    "login(id,pwd)\n",
    "\n",
    "tagInput = input('검색할 태그를 입력하세요 : ')\n",
    "\n",
    "queryTag(tagInput)\n",
    "\n",
    "linkLists = loadLinks()\n",
    "print('게시물수',len(linkLists))\n",
    "getHashTag(linkLists)\n",
    "\n",
    "closeDriver()"
   ]
  },
  {
   "cell_type": "code",
   "execution_count": null,
   "metadata": {
    "collapsed": true
   },
   "outputs": [],
   "source": []
  }
 ],
 "metadata": {
  "anaconda-cloud": {},
  "kernelspec": {
   "display_name": "Python [default]",
   "language": "python",
   "name": "python3"
  },
  "language_info": {
   "codemirror_mode": {
    "name": "ipython",
    "version": 3
   },
   "file_extension": ".py",
   "mimetype": "text/x-python",
   "name": "python",
   "nbconvert_exporter": "python",
   "pygments_lexer": "ipython3",
   "version": "3.5.2"
  }
 },
 "nbformat": 4,
 "nbformat_minor": 2
}
